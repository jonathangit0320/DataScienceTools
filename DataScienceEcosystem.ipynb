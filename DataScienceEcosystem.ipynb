{
 "cells": [
  {
   "cell_type": "markdown",
   "id": "277d95b9-ca0a-410d-8d6b-ad0764a50367",
   "metadata": {},
   "source": [
    "# Data Science Tools and Ecosystem"
   ]
  },
  {
   "cell_type": "markdown",
   "id": "cd181f86-7e30-4bb1-9b9b-8510aa238e34",
   "metadata": {},
   "source": [
    "In this notebook, Data Science Tools and Ecosystem are summarized."
   ]
  },
  {
   "cell_type": "markdown",
   "id": "9cbb1c9b-cb3e-4e30-8912-185ba153cb1d",
   "metadata": {},
   "source": [
    "Some of the popular languages that Data Scientists use are:\n",
    "1. Python\n",
    "2. R\n",
    "3. SQL"
   ]
  },
  {
   "cell_type": "markdown",
   "id": "e6f1d040-880f-4082-bfc6-504dc7f67765",
   "metadata": {},
   "source": [
    "Some of the commonly used libraries used by Data Scientists include:\n",
    "1. Pandas\n",
    "2. Matplotlib\n",
    "3. Numpy\n",
    "4. ggplot2"
   ]
  },
  {
   "cell_type": "markdown",
   "id": "eae800e1-2a1c-49a4-9aea-2a5406b90ebf",
   "metadata": {},
   "source": [
    "|Data Science Tools|\n",
    "|-----------------|\n",
    "|Jupyter Notebooks|\n",
    "|RStudio|\n",
    "|Apache Spark|\n"
   ]
  },
  {
   "cell_type": "markdown",
   "id": "117d6cbe-2543-4195-a1b7-f6a923a7e2a8",
   "metadata": {},
   "source": [
    "**Objetives**  \n",
    "- Python\n",
    "- R\n",
    "- SQL\n",
    "- NoSQL\n",
    "- Git/GitHub\n",
    "  \n"
   ]
  },
  {
   "cell_type": "markdown",
   "id": "6f6ba4c6-547b-4e70-9bdc-c8129e340c68",
   "metadata": {},
   "source": [
    "### Below are a few examples of evaluating arithmetic expressions in Python\n",
    "a = 10  \n",
    "b = 20\n",
    "sum = a + b  \n",
    "print(sum)\n",
    "\n",
    "a = 4  \n",
    "b = 6  \n",
    "c = 10  \n",
    "result = (a + b) * c   \n",
    "print(result)\n",
    "\n",
    "a = 40  \n",
    "b = 25  \n",
    "mult = a * b   \n",
    "print(mult)\n",
    "\n",
    "a = 20  \n",
    "b = 6  \n",
    "div = b / a   \n",
    "print(div)"
   ]
  },
  {
   "cell_type": "code",
   "execution_count": 13,
   "id": "73bb049e-ca05-46bc-8ba6-64d22b3a984b",
   "metadata": {},
   "outputs": [
    {
     "name": "stdout",
     "output_type": "stream",
     "text": [
      "17\n"
     ]
    }
   ],
   "source": [
    "#This is a simple arithmetic expression to multiply then add integers \n",
    "resultado = (3*4)+5\n",
    "print(resultado)"
   ]
  },
  {
   "cell_type": "code",
   "execution_count": 16,
   "id": "c373fcbc-1a1a-4df1-aed0-59ccc7992e1e",
   "metadata": {},
   "outputs": [
    {
     "name": "stdout",
     "output_type": "stream",
     "text": [
      "3.3333333333333335\n"
     ]
    }
   ],
   "source": [
    "#This will convert 200 minutes to hours by diving by 60 \n",
    "\n",
    "resultado = 200/60\n",
    "print(resultado)"
   ]
  },
  {
   "cell_type": "markdown",
   "id": "997a2d93-3ab6-4462-a662-42be384fbc71",
   "metadata": {},
   "source": [
    "## Author  \n",
    "Jonathan Mauricio Araque Montes"
   ]
  }
 ],
 "metadata": {
  "kernelspec": {
   "display_name": "Python 3 (ipykernel)",
   "language": "python",
   "name": "python3"
  },
  "language_info": {
   "codemirror_mode": {
    "name": "ipython",
    "version": 3
   },
   "file_extension": ".py",
   "mimetype": "text/x-python",
   "name": "python",
   "nbconvert_exporter": "python",
   "pygments_lexer": "ipython3",
   "version": "3.12.7"
  }
 },
 "nbformat": 4,
 "nbformat_minor": 5
}
